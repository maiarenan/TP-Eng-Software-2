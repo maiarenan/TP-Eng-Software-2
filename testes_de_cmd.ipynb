{
 "cells": [
  {
   "cell_type": "code",
   "execution_count": 97,
   "metadata": {},
   "outputs": [
    {
     "name": "stdout",
     "output_type": "stream",
     "text": [
      "\n"
     ]
    }
   ],
   "source": [
    "import subprocess\n",
    "path =  r\"C:\\Users\\rodri\\Desktop\\Atividades\\app_21\\TP-Eng-Software-2\\main.py\"\n",
    "\n",
    "processo = subprocess.Popen(['python', path], stdin=subprocess.PIPE, stdout=subprocess.PIPE, stderr=subprocess.PIPE, universal_newlines=True)\n",
    "    \n",
    "processo.stdin.write('Rodrigo' + \"\\n\")\n",
    "processo.stdin.write('S' + \"\\n\")\n",
    "\n",
    "\n",
    "output, errors = processo.communicate()\n",
    "processo.stdin.close()\n",
    "    \n",
    "print()\n"
   ]
  },
  {
   "cell_type": "code",
   "execution_count": 2,
   "metadata": {},
   "outputs": [
    {
     "name": "stdout",
     "output_type": "stream",
     "text": [
      "[K♣, K♥]\n",
      "[K♠, K♦]\n"
     ]
    }
   ],
   "source": [
    "from baralho import Baralho, Carta\n",
    "from mao import Mao\n",
    "from jogador import Jogador\n",
    "\n",
    "baralho = Baralho()\n",
    "baralho.novo_deque_nao_embaralhado()\n",
    "jogador = Jogador()\n",
    "jogador.set_nome('Rodrigo')\n",
    "crupier = Jogador()\n",
    "crupier.set_nome('Crupier')\n",
    "carta1 = baralho.virar()\n",
    "carta2 = baralho.virar()\n",
    "\n",
    "jogador.insert_card(carta1)\n",
    "jogador.insert_card(carta2)\n",
    "\n",
    "carta3 = baralho.virar()\n",
    "carta4 = baralho.virar()\n",
    "\n",
    "crupier.insert_card(carta3)\n",
    "crupier.insert_card(carta4)\n",
    "\n",
    "cartas_jogador = jogador.get_mao()\n",
    "cartas_Crupier = crupier.get_mao()\n",
    "\n",
    "print(cartas_jogador)\n",
    "print(cartas_Crupier)\n"
   ]
  },
  {
   "cell_type": "code",
   "execution_count": 3,
   "metadata": {},
   "outputs": [
    {
     "data": {
      "text/plain": [
       "Q♣"
      ]
     },
     "execution_count": 3,
     "metadata": {},
     "output_type": "execute_result"
    }
   ],
   "source": [
    "carta15 = baralho.virar()\n",
    "carta15"
   ]
  }
 ],
 "metadata": {
  "kernelspec": {
   "display_name": "Python 3",
   "language": "python",
   "name": "python3"
  },
  "language_info": {
   "codemirror_mode": {
    "name": "ipython",
    "version": 3
   },
   "file_extension": ".py",
   "mimetype": "text/x-python",
   "name": "python",
   "nbconvert_exporter": "python",
   "pygments_lexer": "ipython3",
   "version": "3.9.12"
  },
  "orig_nbformat": 4
 },
 "nbformat": 4,
 "nbformat_minor": 2
}
