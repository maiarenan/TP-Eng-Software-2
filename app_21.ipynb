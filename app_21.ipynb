{
 "cells": [
  {
   "cell_type": "code",
   "execution_count": 1,
   "metadata": {},
   "outputs": [],
   "source": [
    "from enum import Enum\n",
    "from dataclasses import dataclass\n",
    "from typing import List\n",
    "import random\n",
    "\n",
    "carta_valores=[\n",
    "    'A',\n",
    "    '2',\n",
    "    '3',\n",
    "    '4',\n",
    "    '5',\n",
    "    '6',\n",
    "    '7',\n",
    "    '8',\n",
    "    '9',\n",
    "    '10',\n",
    "    'J',\n",
    "    'Q',\n",
    "    'K'\n",
    "]\n",
    "\n",
    "carta_nipes=[\n",
    "   '♦',\n",
    "   '♠',\n",
    "   '♥',\n",
    "   '♣'\n",
    "]\n",
    "\n",
    "@dataclass(frozen=True)\n",
    "class Carta:\n",
    "    valor: str\n",
    "    naipe: str\n",
    "\n",
    "    def __str__(self):\n",
    "        return self.valor + self.naipe\n",
    "\n",
    "    def __repr__(self):\n",
    "        return self.valor + self.naipe\n",
    "\n",
    "class Baralho:\n",
    "    \"\"\" Classe que define um baralho de cartas. \"\"\"\n",
    "    def __init__(self):\n",
    "        self.cartas = self.novodeque()\n",
    "\n",
    "    def novodeque(self):\n",
    "        \"\"\" Método de geração das cartas de forma ordenada. \"\"\"\n",
    "        cartas = [Carta(v, n) for v in list(carta_valores) for n in list(carta_nipes)]\n",
    "        return self.embaralhar(cartas)\n",
    "\n",
    "    def embaralhar(self, cartas):\n",
    "        random.shuffle(cartas)\n",
    "        return cartas\n",
    "    \n",
    "    def virar(self):\n",
    "        \"\"\" Retira a carta do topo e remove do baralho. \"\"\"\n",
    "        return self.cartas.pop()"
   ]
  },
  {
   "cell_type": "code",
   "execution_count": 31,
   "metadata": {},
   "outputs": [],
   "source": [
    "#EXQUELETO - TODO\n",
    "class jogador():\n",
    "    def __init__(self, name = ''):\n",
    "        self.name = ''\n",
    "        self.hand = []\n",
    "        self.score = 0\n",
    "\n",
    "    def insert_hand(self, card):\n",
    "        self.hand.append(card)\n",
    "    \n",
    "    def pop_hand(self):\n",
    "       return self.hand.pop()"
   ]
  },
  {
   "cell_type": "code",
   "execution_count": 32,
   "metadata": {},
   "outputs": [],
   "source": []
  }
 ],
 "metadata": {
  "kernelspec": {
   "display_name": "base",
   "language": "python",
   "name": "python3"
  },
  "language_info": {
   "codemirror_mode": {
    "name": "ipython",
    "version": 3
   },
   "file_extension": ".py",
   "mimetype": "text/x-python",
   "name": "python",
   "nbconvert_exporter": "python",
   "pygments_lexer": "ipython3",
   "version": "3.9.12"
  },
  "orig_nbformat": 4
 },
 "nbformat": 4,
 "nbformat_minor": 2
}
