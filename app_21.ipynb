{
 "cells": [
  {
   "cell_type": "code",
   "execution_count": 1,
   "metadata": {},
   "outputs": [],
   "source": [
    "from baralho import Baralho, Carta\n",
    "from mao import Mao\n",
    "from jogador import Jogador\n",
    "\n",
    "class Vinte_e_um():\n",
    "    def __init__(self):\n",
    "        self.baralho = Baralho()\n",
    "        self.jogador = Jogador()\n",
    "        self.croupier = Jogador()\n",
    "        self._cumprimento = self._print_inicial()\n",
    "    \n",
    "    def _print_inicial(self):\n",
    "        print()\n",
    "        print('|', 28*'=' , '|')\n",
    "        print('| BEM-VINDO AO JOGO VINTE E UM |')\n",
    "        print('|', 28*'=' , '|')\n",
    "        print()\n",
    "\n",
    "\n",
    "    def registrar_jogador(self):\n",
    "        self.jogador.set_nome(input('Digite o nome do jogador: ').capitalize())\n",
    "    \n",
    "    def nome_croupier(self):\n",
    "        self.croupier.set_nome('Croupier')\n",
    "    \n",
    "    def perguntar_jogador_proxima_jogada(self):\n",
    "        resposta = input('Digite S para comprar mais cartas, ou N para parar').upper()\n",
    "        \n",
    "        if resposta != 'S' and resposta != 'N':\n",
    "            print('Digita a letra certa o miseravi!')\n",
    "            return self.perguntar_jogador_proxima_jogada()\n",
    "        \n",
    "        else:\n",
    "            print(f' Sua resposta foi {resposta}')\n",
    "\n",
    "    def mostrar_score_jogador(self):\n",
    "        print(f'Score do jogador: {self.jogador.get_score()}')\n",
    "    \n",
    "    def mostrar_score_croupier(self):\n",
    "        print(f'Score do Croupier: {self.croupier.get_score()}')\n",
    "\n",
    "    def _inserir_carta_jogador(self):\n",
    "        card = self.baralho.virar()\n",
    "        self.jogador.mao.insert_card(card)\n",
    "        return self.mostrar_score_jogador()\n",
    "    \n",
    "    def _inserir_carta_croupier(self):\n",
    "        card = self.baralho.virar()\n",
    "        self.jogador.mao.insert_card(card)\n",
    "        return self.mostrar_score_jogador()\n",
    "\n",
    "\n",
    "\n",
    "    # def registrar_saldo(self):\n",
    "    #     self.jogador.set_saldo(int(input('Digite o saldo do jogador: ')))\n",
    "    \n",
    "    # def verifica_saldo(self):\n",
    "    #     return self.jogador.saldo >= self.aposta\n",
    "\n",
    "    # def registrar_aposta(self):\n",
    "    #     self.aposta = int(input('Digite o valor da aposta: '))\n",
    "    #     if self.verifica_saldo():\n",
    "    #         self.jogador.set_saldo(self.jogador.saldo - self.aposta)\n",
    "    #     else:\n",
    "    #         print('Saldo insuficiente')\n",
    "    #         self.registrar_aposta()\n"
   ]
  },
  {
   "cell_type": "code",
   "execution_count": 2,
   "metadata": {},
   "outputs": [
    {
     "name": "stdout",
     "output_type": "stream",
     "text": [
      "\n",
      "| ============================ |\n",
      "| BEM-VINDO AO JOGO VINTE E UM |\n",
      "| ============================ |\n",
      "\n",
      "Olá Drigao da macedooonia, bem vindo ao nosso jogo de 21. Esperamos que você se divirta muito!!!\n"
     ]
    }
   ],
   "source": [
    "game = Vinte_e_um()\n",
    "game.registrar_jogador()\n"
   ]
  },
  {
   "cell_type": "code",
   "execution_count": null,
   "metadata": {},
   "outputs": [],
   "source": []
  }
 ],
 "metadata": {
  "kernelspec": {
   "display_name": "base",
   "language": "python",
   "name": "python3"
  },
  "language_info": {
   "codemirror_mode": {
    "name": "ipython",
    "version": 3
   },
   "file_extension": ".py",
   "mimetype": "text/x-python",
   "name": "python",
   "nbconvert_exporter": "python",
   "pygments_lexer": "ipython3",
   "version": "3.9.0"
  },
  "orig_nbformat": 4
 },
 "nbformat": 4,
 "nbformat_minor": 2
}
