{
 "cells": [
  {
   "cell_type": "code",
   "execution_count": 30,
   "metadata": {},
   "outputs": [],
   "source": [
    "from baralho import Baralho, Carta\n",
    "from mao import Mao\n",
    "from jogador import Jogador\n",
    "\n",
    "class Vinte_e_um():\n",
    "    def __init__(self):\n",
    "        self.baralho = Baralho()\n",
    "        self.jogador = Jogador()\n",
    "        self.croupier = Jogador()\n",
    "        self._cumprimento = self._print_inicial()\n",
    "        self._registrar_jogador()\n",
    "    \n",
    "    def _print_inicial(self):\n",
    "        print()\n",
    "        print('|', 28*'=' , '|')\n",
    "        print('| BEM-VINDO AO JOGO VINTE E UM |')\n",
    "        print('|', 28*'=' , '|')\n",
    "        print()\n",
    "\n",
    "\n",
    "    def _registrar_jogador(self):\n",
    "        self.jogador.set_nome(input('Digite o nome do jogador: ').capitalize())\n",
    "        self.jogador.cumprimentar_jogador()\n",
    "        self._nome_croupier()\n",
    "    \n",
    "    def _nome_croupier(self):\n",
    "        self.croupier.set_nome('Croupier')\n",
    "\n",
    "\n",
    "    def _verifica_estado_pos_1_rodada(self):\n",
    "        if self.jogador.mao.verifica_se_vitoria_blackjack():\n",
    "            print(f'Jogador {self.jogador.name} já foi declarado vitorioso! Sua mão:')\n",
    "            print(f'{self.jogador.mao.get_cartas()}')\n",
    "            print('Que sorte em!!!')\n",
    "            return True\n",
    "       \n",
    "        else:\n",
    "            print(f'Primeira rodada de cartas distribuida:')\n",
    "            print(f'Cartas e score de {self.jogador.name}:')\n",
    "            self.mostrar_score_jogador()\n",
    "            print()\n",
    "            print(f'Primeira carta de Crupier:')\n",
    "            cartas = self.croupier.mao.get_cartas()\n",
    "            print(cartas[0])\n",
    "            return False\n",
    "        \n",
    "    def distribui_primeira_rodada(self):\n",
    "        carta1 = self.baralho.virar()\n",
    "        carta2 = self.baralho.virar()\n",
    "\n",
    "        self.jogador.mao.insert_card(carta1)\n",
    "        self.jogador.mao.insert_card(carta2)\n",
    "\n",
    "        carta3 = self.baralho.virar()\n",
    "        carta4 = self.baralho.virar()\n",
    "\n",
    "        self.croupier.mao.insert_card(carta3)\n",
    "        self.croupier.mao.insert_card(carta4)\n",
    "        \n",
    "        return self._verifica_estado_pos_1_rodada()\n",
    "\n",
    "    def perguntar_jogador_proxima_jogada(self):\n",
    "        resposta = input('Digite S para comprar mais cartas, ou N para parar').upper()\n",
    "        \n",
    "        if resposta != 'S' and resposta != 'N':\n",
    "            print('Digita a letra certa o miseravi!')\n",
    "            return self.perguntar_jogador_proxima_jogada()\n",
    "        \n",
    "        else:\n",
    "            if resposta == 'S':\n",
    "                return self._inserir_carta_jogador()\n",
    "            else:\n",
    "                return self.mostrar_score_jogador()\n",
    "\n",
    "    def mostrar_score_jogador(self):\n",
    "        print(f'Score do jogador: {self.jogador.get_score()}')\n",
    "        print(f'Suas cartas atuais são: {self.jogador.mao.get_cartas()}')\n",
    "    \n",
    "    def mostrar_score_croupier(self):\n",
    "        print(f'Score do Croupier: {self.croupier.get_score()}')\n",
    "\n",
    "    def _inserir_carta_jogador(self):\n",
    "        card = self.baralho.virar()\n",
    "        self.jogador.mao.insert_card(card)\n",
    "        perdeu = self.jogador.mao.verifica_se_perdeu()\n",
    "        return self.mostrar_score_jogador()\n",
    "    \n",
    "    def _inserir_carta_croupier(self):\n",
    "        card = self.baralho.virar()\n",
    "        self.jogador.mao.insert_card(card)\n",
    "        return self.mostrar_score_jogador()\n",
    "\n",
    "\n",
    "\n",
    "    # def registrar_saldo(self):\n",
    "    #     self.jogador.set_saldo(int(input('Digite o saldo do jogador: ')))\n",
    "    \n",
    "    # def verifica_saldo(self):\n",
    "    #     return self.jogador.saldo >= self.aposta\n",
    "\n",
    "    # def registrar_aposta(self):\n",
    "    #     self.aposta = int(input('Digite o valor da aposta: '))\n",
    "    #     if self.verifica_saldo():\n",
    "    #         self.jogador.set_saldo(self.jogador.saldo - self.aposta)\n",
    "    #     else:\n",
    "    #         print('Saldo insuficiente')\n",
    "    #         self.registrar_aposta()\n"
   ]
  },
  {
   "cell_type": "code",
   "execution_count": 31,
   "metadata": {},
   "outputs": [
    {
     "name": "stdout",
     "output_type": "stream",
     "text": [
      "\n",
      "| ============================ |\n",
      "| BEM-VINDO AO JOGO VINTE E UM |\n",
      "| ============================ |\n",
      "\n",
      "Olá Asdasdsa, bem vindo ao nosso jogo de 21. Esperamos que você se divirta muito!!!\n"
     ]
    }
   ],
   "source": [
    "game = Vinte_e_um()\n"
   ]
  },
  {
   "cell_type": "code",
   "execution_count": 32,
   "metadata": {},
   "outputs": [
    {
     "name": "stdout",
     "output_type": "stream",
     "text": [
      "Primeira rodada de cartas distribuida:\n",
      "Cartas e score de Asdasdsa:\n",
      "Score do jogador: 14\n",
      "Suas cartas atuais são: [8♠, 6♣]\n",
      "\n",
      "Primeira carta de Crupier:\n",
      "K♣\n"
     ]
    },
    {
     "data": {
      "text/plain": [
       "False"
      ]
     },
     "execution_count": 32,
     "metadata": {},
     "output_type": "execute_result"
    }
   ],
   "source": [
    "game.distribui_primeira_rodada()"
   ]
  },
  {
   "cell_type": "code",
   "execution_count": 33,
   "metadata": {},
   "outputs": [
    {
     "name": "stdout",
     "output_type": "stream",
     "text": [
      "Score do jogador: 24\n",
      "Suas cartas atuais são: [8♠, 6♣, Q♥]\n"
     ]
    }
   ],
   "source": [
    "game.perguntar_jogador_proxima_jogada()"
   ]
  },
  {
   "cell_type": "code",
   "execution_count": null,
   "metadata": {},
   "outputs": [],
   "source": [
    "game = Vinte_e_um()\n",
    "while True:\n",
    "    incia o Jogo \n",
    "    instancia as coisas\n",
    "    distribui duas cartas para o jogador, e duas para o cuprier\n",
    "    mostra as duas carta do jogador, e mostra uma do cuprier\n",
    "    verifica se blackjack, se sim jogador win e pula pra ultima linha\n",
    "    pergunta se o jogador quer comprar mais Carta\n",
    "    compra e exibe as cartas dele enquanto ele quiser comprar\n",
    "    verifica se perdeu ou se fez 21 a cada rodada que ele comprar Carta\n",
    "    quando ele não quiser mais comprar carta, começa a trabalhar com o coupier\n",
    "    quando crupier e jogador pararem de comprar cartas, chame o get_vencedor\n",
    "    pergunta se o jogador quer jogar denovo.\n",
    "\n"
   ]
  }
 ],
 "metadata": {
  "kernelspec": {
   "display_name": "base",
   "language": "python",
   "name": "python3"
  },
  "language_info": {
   "codemirror_mode": {
    "name": "ipython",
    "version": 3
   },
   "file_extension": ".py",
   "mimetype": "text/x-python",
   "name": "python",
   "nbconvert_exporter": "python",
   "pygments_lexer": "ipython3",
   "version": "3.9.0"
  },
  "orig_nbformat": 4
 },
 "nbformat": 4,
 "nbformat_minor": 2
}
