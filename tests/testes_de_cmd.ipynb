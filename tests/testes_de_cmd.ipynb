{
 "cells": [
  {
   "cell_type": "code",
   "execution_count": 7,
   "metadata": {},
   "outputs": [
    {
     "name": "stdout",
     "output_type": "stream",
     "text": [
      "\n",
      "| ============================ |\n",
      "| BEM-VINDO AO JOGO VINTE E UM |\n",
      "| ============================ |\n",
      "\n",
      "Digite o nome do jogador: Olá Rodrigo, bem vindo ao nosso jogo de 21. Esperamos que você se divirta muito!!!\n",
      "\n",
      "Primeira rodada de cartas distribuida:\n",
      "Cartas e score de Rodrigo:\n",
      "Score do jogador: 5\n",
      "Suas cartas atuais são: [2♦, 3♠]\n",
      "\n",
      "Primeira carta de Crupier:\n",
      "4♣\n",
      "Embaralhando cartas...\n",
      "Digite S para comprar mais cartas, ou N para parar: \n"
     ]
    },
    {
     "data": {
      "text/plain": [
       "str"
      ]
     },
     "execution_count": 7,
     "metadata": {},
     "output_type": "execute_result"
    }
   ],
   "source": [
    "import pytest\n",
    "import subprocess\n",
    "from vinte_e_um import Vinte_e_um\n",
    "\n",
    "\n",
    "path =  r\"C:\\Users\\rodri\\Desktop\\Atividades\\app_21\\TP-Eng-Software-2\\main.py\"\n",
    "   \n",
    "processo = subprocess.Popen(['python', path], stdin=subprocess.PIPE, stdout=subprocess.PIPE, stderr=subprocess.PIPE, universal_newlines=True)\n",
    "processo.stdin.write('Rodrigo' + \"\\n\")\n",
    "# processo.stdin.write('S' + \"\\n\")\n",
    "# processo.stdin.write('S' + \"\\n\")\n",
    "# processo.stdin.write('S' + \"\\n\")\n",
    "\n",
    "output, errors = processo.communicate()\n",
    "processo.stdin.close()\n",
    "\n",
    "print(output)\n",
    "type(output)"
   ]
  }
 ],
 "metadata": {
  "kernelspec": {
   "display_name": "Python 3",
   "language": "python",
   "name": "python3"
  },
  "language_info": {
   "codemirror_mode": {
    "name": "ipython",
    "version": 3
   },
   "file_extension": ".py",
   "mimetype": "text/x-python",
   "name": "python",
   "nbconvert_exporter": "python",
   "pygments_lexer": "ipython3",
   "version": "3.9.12"
  },
  "orig_nbformat": 4
 },
 "nbformat": 4,
 "nbformat_minor": 2
}
