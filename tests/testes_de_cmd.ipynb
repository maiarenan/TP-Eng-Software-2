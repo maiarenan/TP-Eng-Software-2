{
 "cells": [
  {
   "cell_type": "code",
   "execution_count": 87,
   "metadata": {},
   "outputs": [
    {
     "name": "stdout",
     "output_type": "stream",
     "text": [
      "[5♦, 9♠]\n",
      "\n",
      "Primeira carta de Crupier:\n",
      "4♦\n",
      "Embaralhando cartas...\n",
      "Digite S para comprar mais cartas, ou N para parar: Score do jogador: 20\n",
      "\n"
     ]
    }
   ],
   "source": [
    "import subprocess\n",
    "path =  r\"C:\\Users\\rodri\\Desktop\\Atividades\\app_21\\TP-Eng-Software-2\\main.py\"\n",
    "\n",
    "processo = subprocess.Popen(['python', path], stdin=subprocess.PIPE, stdout=subprocess.PIPE, stderr=subprocess.PIPE, universal_newlines=True)\n",
    "    \n",
    "processo.stdin.write('Rodrigo' + \"\\n\")\n",
    "processo.stdin.write('S' + \"\\n\")\n",
    "\n",
    "\n",
    "output, errors = processo.communicate()\n",
    "processo.stdin.close()\n",
    "    \n",
    "print()\n"
   ]
  },
  {
   "cell_type": "code",
   "execution_count": 21,
   "metadata": {},
   "outputs": [
    {
     "data": {
      "text/plain": [
       "1"
      ]
     },
     "execution_count": 21,
     "metadata": {},
     "output_type": "execute_result"
    }
   ],
   "source": [
    "a = ' 1'\n",
    "int(a)"
   ]
  }
 ],
 "metadata": {
  "kernelspec": {
   "display_name": "Python 3",
   "language": "python",
   "name": "python3"
  },
  "language_info": {
   "codemirror_mode": {
    "name": "ipython",
    "version": 3
   },
   "file_extension": ".py",
   "mimetype": "text/x-python",
   "name": "python",
   "nbconvert_exporter": "python",
   "pygments_lexer": "ipython3",
   "version": "3.9.12"
  },
  "orig_nbformat": 4
 },
 "nbformat": 4,
 "nbformat_minor": 2
}
